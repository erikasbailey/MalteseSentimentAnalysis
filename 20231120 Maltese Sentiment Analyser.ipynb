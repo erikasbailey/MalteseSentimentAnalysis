{
 "cells": [
  {
   "cell_type": "code",
   "execution_count": 1,
   "id": "27a74220",
   "metadata": {},
   "outputs": [
    {
     "name": "stderr",
     "output_type": "stream",
     "text": [
      "C:\\Users\\erika\\anaconda3\\envs\\ESBexperiments\\lib\\site-packages\\tqdm\\auto.py:21: TqdmWarning: IProgress not found. Please update jupyter and ipywidgets. See https://ipywidgets.readthedocs.io/en/stable/user_install.html\n",
      "  from .autonotebook import tqdm as notebook_tqdm\n",
      "C:\\Users\\erika\\anaconda3\\envs\\ESBexperiments\\lib\\site-packages\\transformers\\models\\marian\\tokenization_marian.py:197: UserWarning: Recommended: pip install sacremoses.\n",
      "  warnings.warn(\"Recommended: pip install sacremoses.\")\n"
     ]
    }
   ],
   "source": [
    "from transformers import pipeline, MarianMTModel, MarianTokenizer, BertTokenizer, BertForSequenceClassification\n",
    "\n",
    "# Load the Maltese to English translation model\n",
    "translator = pipeline(task=\"translation\", model=MarianMTModel.from_pretrained(\"Helsinki-NLP/opus-mt-mt-en\"), tokenizer=MarianTokenizer.from_pretrained(\"Helsinki-NLP/opus-mt-mt-en\"))\n",
    "\n",
    "# Load the sentiment analysis model for English\n",
    "sentiment_analyzer = pipeline(\"sentiment-analysis\", model=BertForSequenceClassification.from_pretrained(\"nlptown/bert-base-multilingual-uncased-sentiment\"), tokenizer=BertTokenizer.from_pretrained(\"nlptown/bert-base-multilingual-uncased-sentiment\"))\n",
    "\n"
   ]
  },
  {
   "cell_type": "code",
   "execution_count": 4,
   "id": "af092ae1",
   "metadata": {},
   "outputs": [
    {
     "name": "stdout",
     "output_type": "stream",
     "text": [
      "Ikteb test bil-Malti (ikteb 'lest' biex tieqaf): Il-vaganza kienet vera sabiha! In-nies tal-lokal kienu helwin u t-temp kien bellezza.\n",
      "Dak l-aqwa! \n",
      "\n",
      "Ikteb test bil-Malti (ikteb 'lest' biex tieqaf): Jien hadt gost dan il-weekend. Il-lukanda kienet komda u l-ikel kien tajjeb.\n",
      "Kuntenta għalik. \n",
      "\n",
      "Ikteb test bil-Malti (ikteb 'lest' biex tieqaf): Dan il-ktieb kien interessanti, imma ma tantx dhalt fl-istorja.\n",
      "Tajjeb li qed tgħidli. \n",
      "\n",
      "Ikteb test bil-Malti (ikteb 'lest' biex tieqaf): Il-kompjuter il-gdid qed itini hafna u hafna problemi. Ma tantx jien kuntenta.\n",
      "Ħazin. Nispera li s-sitwazzjoni titranġa 'il quddiem. \n",
      "\n",
      "Ikteb test bil-Malti (ikteb 'lest' biex tieqaf): L-ikel kien hazin u s-servizz kien dizastru.\n",
      "Grazzi talli qsamt dan il-ħsieb. Jiddispjaċini li ħassejtek hekk. \n",
      "\n",
      "Ikteb test bil-Malti (ikteb 'lest' biex tieqaf): lest\n",
      "Ser inwaqqaf l-analizi.\n"
     ]
    }
   ],
   "source": [
    "while True:\n",
    "    # Prompt the user to enter Maltese text\n",
    "    user_text_maltese = input(\"Ikteb test bil-Malti (ikteb 'lest' biex tieqaf): \")\n",
    "    \n",
    "    # Check if the user wants to exit\n",
    "    if user_text_maltese.lower() == 'lest':\n",
    "        print(\"Ser inwaqqaf l-analizi.\")\n",
    "        break\n",
    "\n",
    "    # Translate Maltese to English\n",
    "    user_text_english = translator(user_text_maltese, max_length=512, return_text=True)[0]['translation_text']\n",
    "\n",
    "    # print(user_text_english)\n",
    "    \n",
    "    # Perform sentiment analysis in English\n",
    "    results = sentiment_analyzer(user_text_english)\n",
    "\n",
    "    # Display the result\n",
    "    sentiment = results[0]['label']\n",
    "    confidence = results[0]['score']\n",
    "    \n",
    "    # print(sentiment)\n",
    "    \n",
    "    if sentiment == \"1 star\":\n",
    "        print(\"Grazzi talli qsamt dan il-ħsieb. Jiddispjaċini li ħassejtek hekk. \\n\")\n",
    "    elif sentiment == \"2 stars\":\n",
    "        print(\"Ħazin. Nispera li s-sitwazzjoni titranġa 'il quddiem. \\n\")\n",
    "    elif sentiment == \"3 stars\":\n",
    "        print(\"Tajjeb li qed tgħidli. \\n\")\n",
    "    elif sentiment == \"4 stars\":\n",
    "        print(\"Kuntenta għalik. \\n\")\n",
    "    else:\n",
    "        print(\"Dak l-aqwa! \\n\")\n",
    "\n",
    "    #print(f\"Sentiment: {sentiment} (Confidence: {confidence:.2f})\\n\")"
   ]
  },
  {
   "cell_type": "code",
   "execution_count": null,
   "id": "71a22aeb",
   "metadata": {},
   "outputs": [],
   "source": []
  },
  {
   "cell_type": "code",
   "execution_count": null,
   "id": "807bd8ac",
   "metadata": {},
   "outputs": [],
   "source": []
  },
  {
   "cell_type": "code",
   "execution_count": null,
   "id": "d6060cac",
   "metadata": {},
   "outputs": [],
   "source": []
  },
  {
   "cell_type": "code",
   "execution_count": null,
   "id": "d7237d10",
   "metadata": {},
   "outputs": [],
   "source": []
  },
  {
   "cell_type": "code",
   "execution_count": null,
   "id": "185bf38d",
   "metadata": {},
   "outputs": [],
   "source": []
  },
  {
   "cell_type": "code",
   "execution_count": null,
   "id": "97dd234d",
   "metadata": {},
   "outputs": [],
   "source": []
  },
  {
   "cell_type": "code",
   "execution_count": null,
   "id": "639c3af0",
   "metadata": {},
   "outputs": [],
   "source": []
  },
  {
   "cell_type": "code",
   "execution_count": null,
   "id": "7adeab9d",
   "metadata": {},
   "outputs": [],
   "source": []
  },
  {
   "cell_type": "code",
   "execution_count": null,
   "id": "1131b446",
   "metadata": {},
   "outputs": [],
   "source": []
  }
 ],
 "metadata": {
  "kernelspec": {
   "display_name": "Python 3 (ipykernel)",
   "language": "python",
   "name": "python3"
  },
  "language_info": {
   "codemirror_mode": {
    "name": "ipython",
    "version": 3
   },
   "file_extension": ".py",
   "mimetype": "text/x-python",
   "name": "python",
   "nbconvert_exporter": "python",
   "pygments_lexer": "ipython3",
   "version": "3.8.18"
  }
 },
 "nbformat": 4,
 "nbformat_minor": 5
}
